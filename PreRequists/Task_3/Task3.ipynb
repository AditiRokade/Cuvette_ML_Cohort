{
 "cells": [
  {
   "cell_type": "code",
   "execution_count": 1,
   "id": "08cf1386",
   "metadata": {},
   "outputs": [],
   "source": [
    "import pandas as pd\n",
    "import numpy as np\n",
    "import cv2\n",
    "import os\n",
    "import random\n",
    "from keras import layers, models, optimizers"
   ]
  },
  {
   "cell_type": "code",
   "execution_count": 2,
   "id": "02b6df0e",
   "metadata": {},
   "outputs": [],
   "source": [
    "df=pd.read_csv('train_labels.csv')"
   ]
  },
  {
   "cell_type": "code",
   "execution_count": 3,
   "id": "cbdf42e5",
   "metadata": {},
   "outputs": [
    {
     "data": {
      "text/html": [
       "<div>\n",
       "<style scoped>\n",
       "    .dataframe tbody tr th:only-of-type {\n",
       "        vertical-align: middle;\n",
       "    }\n",
       "\n",
       "    .dataframe tbody tr th {\n",
       "        vertical-align: top;\n",
       "    }\n",
       "\n",
       "    .dataframe thead th {\n",
       "        text-align: right;\n",
       "    }\n",
       "</style>\n",
       "<table border=\"1\" class=\"dataframe\">\n",
       "  <thead>\n",
       "    <tr style=\"text-align: right;\">\n",
       "      <th></th>\n",
       "      <th>id</th>\n",
       "      <th>label</th>\n",
       "    </tr>\n",
       "  </thead>\n",
       "  <tbody>\n",
       "    <tr>\n",
       "      <th>0</th>\n",
       "      <td>10</td>\n",
       "      <td>cat</td>\n",
       "    </tr>\n",
       "    <tr>\n",
       "      <th>1</th>\n",
       "      <td>18</td>\n",
       "      <td>cat</td>\n",
       "    </tr>\n",
       "    <tr>\n",
       "      <th>2</th>\n",
       "      <td>22</td>\n",
       "      <td>cat</td>\n",
       "    </tr>\n",
       "    <tr>\n",
       "      <th>3</th>\n",
       "      <td>27</td>\n",
       "      <td>cat</td>\n",
       "    </tr>\n",
       "    <tr>\n",
       "      <th>4</th>\n",
       "      <td>34</td>\n",
       "      <td>cat</td>\n",
       "    </tr>\n",
       "  </tbody>\n",
       "</table>\n",
       "</div>"
      ],
      "text/plain": [
       "   id label\n",
       "0  10   cat\n",
       "1  18   cat\n",
       "2  22   cat\n",
       "3  27   cat\n",
       "4  34   cat"
      ]
     },
     "execution_count": 3,
     "metadata": {},
     "output_type": "execute_result"
    }
   ],
   "source": [
    "df.head()"
   ]
  },
  {
   "cell_type": "code",
   "execution_count": 4,
   "id": "c84974dd",
   "metadata": {},
   "outputs": [
    {
     "data": {
      "text/plain": [
       "8000"
      ]
     },
     "execution_count": 4,
     "metadata": {},
     "output_type": "execute_result"
    }
   ],
   "source": [
    "len(df)"
   ]
  },
  {
   "cell_type": "code",
   "execution_count": 5,
   "id": "c983f5e2",
   "metadata": {},
   "outputs": [],
   "source": [
    "img_dir=\"C:\\\\Users\\\\Dell\\\\OneDrive\\\\Desktop\\\\ml\\\\PreRequists\\\\Task_3\\\\train_data\"\n",
    "ids = df[\"id\"].tolist()\n",
    "labels = df[\"label\"].tolist()"
   ]
  },
  {
   "cell_type": "code",
   "execution_count": 6,
   "id": "11eb0a8a",
   "metadata": {},
   "outputs": [],
   "source": [
    "imgs = []\n",
    "\n",
    "for img in ids:\n",
    "    imgs.append(cv2.imread(os.path.join(img_dir,f\"{img}.png\")))"
   ]
  },
  {
   "cell_type": "code",
   "execution_count": 7,
   "id": "37127989",
   "metadata": {},
   "outputs": [
    {
     "data": {
      "text/plain": [
       "8000"
      ]
     },
     "execution_count": 7,
     "metadata": {},
     "output_type": "execute_result"
    }
   ],
   "source": [
    "len(imgs)"
   ]
  },
  {
   "cell_type": "code",
   "execution_count": 8,
   "id": "ae20e121",
   "metadata": {},
   "outputs": [
    {
     "data": {
      "text/plain": [
       "array([[[116, 125, 125],\n",
       "        [ 91, 101, 110],\n",
       "        [ 83,  90, 102],\n",
       "        ...,\n",
       "        [214, 207, 202],\n",
       "        [212, 205, 200],\n",
       "        [214, 208, 202]],\n",
       "\n",
       "       [[142, 146, 142],\n",
       "        [139, 144, 146],\n",
       "        [170, 172, 176],\n",
       "        ...,\n",
       "        [205, 201, 195],\n",
       "        [209, 205, 198],\n",
       "        [215, 211, 204]],\n",
       "\n",
       "       [[183, 185, 180],\n",
       "        [146, 146, 143],\n",
       "        [157, 157, 156],\n",
       "        ...,\n",
       "        [113, 111, 122],\n",
       "        [131, 128, 139],\n",
       "        [150, 147, 158]],\n",
       "\n",
       "       ...,\n",
       "\n",
       "       [[ 41,  82, 104],\n",
       "        [ 39,  80, 101],\n",
       "        [ 38,  81, 101],\n",
       "        ...,\n",
       "        [ 67, 103, 126],\n",
       "        [ 69, 103, 126],\n",
       "        [ 68, 101, 125]],\n",
       "\n",
       "       [[ 40,  81, 104],\n",
       "        [ 41,  84, 105],\n",
       "        [ 43,  88, 109],\n",
       "        ...,\n",
       "        [ 78, 113, 138],\n",
       "        [ 80, 113, 137],\n",
       "        [ 81, 112, 137]],\n",
       "\n",
       "       [[ 42,  83, 105],\n",
       "        [ 45,  87, 108],\n",
       "        [ 50,  94, 115],\n",
       "        ...,\n",
       "        [ 82, 117, 143],\n",
       "        [ 84, 116, 143],\n",
       "        [ 86, 116, 144]]], dtype=uint8)"
      ]
     },
     "execution_count": 8,
     "metadata": {},
     "output_type": "execute_result"
    }
   ],
   "source": [
    "imgs[0]"
   ]
  },
  {
   "cell_type": "code",
   "execution_count": 9,
   "id": "e54acbe8",
   "metadata": {},
   "outputs": [],
   "source": [
    "lab = [\"cat\",\"dog\"]\n",
    "target = []\n",
    "for label in labels :\n",
    "    if label == \"cat\":\n",
    "        target.append(lab.index(label))\n",
    "    elif label == \"dog\":\n",
    "        target.append(lab.index(label))"
   ]
  },
  {
   "cell_type": "code",
   "execution_count": 10,
   "id": "837d94e4",
   "metadata": {},
   "outputs": [],
   "source": [
    "img_width=64\n",
    "img_height = 64"
   ]
  },
  {
   "cell_type": "code",
   "execution_count": 11,
   "id": "def85a75",
   "metadata": {},
   "outputs": [],
   "source": [
    "def prepare_data(images,target):\n",
    "    inp= []\n",
    "\n",
    "    for i in range(len(target)):\n",
    "        images[i]=cv2.resize(images[i], (img_width,img_height), interpolation=cv2.INTER_CUBIC)\n",
    "        inp.append([images[i], target[i]])\n",
    "\n",
    "    random.shuffle(inp) \n",
    "    x = []  \n",
    "    y = []  \n",
    "\n",
    "    for feature, tar in inp:\n",
    "        x.append(feature)\n",
    "        y.append(tar)\n",
    "    \n",
    "    x= np.array(x)\n",
    "    x = x/255\n",
    "    y= np.array(y)\n",
    "    \n",
    "    return x,y"
   ]
  },
  {
   "cell_type": "code",
   "execution_count": 12,
   "id": "9186bde0",
   "metadata": {},
   "outputs": [],
   "source": [
    "x, y = prepare_data(imgs,target)"
   ]
  },
  {
   "cell_type": "code",
   "execution_count": 13,
   "id": "0dd66ebe",
   "metadata": {},
   "outputs": [
    {
     "data": {
      "text/plain": [
       "array([[[0.69019608, 0.78823529, 0.89019608],\n",
       "        [0.69019608, 0.78039216, 0.87843137],\n",
       "        [0.68627451, 0.77254902, 0.8627451 ],\n",
       "        ...,\n",
       "        [0.50980392, 0.56862745, 0.57647059],\n",
       "        [0.51764706, 0.57254902, 0.58431373],\n",
       "        [0.52156863, 0.57647059, 0.58823529]],\n",
       "\n",
       "       [[0.69411765, 0.78823529, 0.88627451],\n",
       "        [0.69019608, 0.78039216, 0.8745098 ],\n",
       "        [0.69019608, 0.76862745, 0.85490196],\n",
       "        ...,\n",
       "        [0.51764706, 0.57647059, 0.58431373],\n",
       "        [0.52156863, 0.58039216, 0.58823529],\n",
       "        [0.5254902 , 0.58039216, 0.59215686]],\n",
       "\n",
       "       [[0.70196078, 0.78823529, 0.87843137],\n",
       "        [0.69411765, 0.78039216, 0.86666667],\n",
       "        [0.69019608, 0.76470588, 0.84705882],\n",
       "        ...,\n",
       "        [0.52941176, 0.58431373, 0.59215686],\n",
       "        [0.53333333, 0.58823529, 0.6       ],\n",
       "        [0.5372549 , 0.59215686, 0.60392157]],\n",
       "\n",
       "       ...,\n",
       "\n",
       "       [[0.62352941, 0.65490196, 0.6627451 ],\n",
       "        [0.59607843, 0.63137255, 0.64313725],\n",
       "        [0.55686275, 0.59215686, 0.60784314],\n",
       "        ...,\n",
       "        [0.67058824, 0.70980392, 0.72941176],\n",
       "        [0.66666667, 0.70980392, 0.72156863],\n",
       "        [0.66666667, 0.70588235, 0.71764706]],\n",
       "\n",
       "       [[0.66666667, 0.69411765, 0.69803922],\n",
       "        [0.63529412, 0.6627451 , 0.67058824],\n",
       "        [0.58039216, 0.61568627, 0.62352941],\n",
       "        ...,\n",
       "        [0.67058824, 0.70980392, 0.7254902 ],\n",
       "        [0.67058824, 0.70980392, 0.72156863],\n",
       "        [0.67058824, 0.70980392, 0.72156863]],\n",
       "\n",
       "       [[0.69411765, 0.71764706, 0.72156863],\n",
       "        [0.65490196, 0.68235294, 0.69019608],\n",
       "        [0.59607843, 0.62745098, 0.63529412],\n",
       "        ...,\n",
       "        [0.66666667, 0.70588235, 0.72156863],\n",
       "        [0.67058824, 0.70980392, 0.72156863],\n",
       "        [0.6745098 , 0.71372549, 0.7254902 ]]])"
      ]
     },
     "execution_count": 13,
     "metadata": {},
     "output_type": "execute_result"
    }
   ],
   "source": [
    "x[0]"
   ]
  },
  {
   "cell_type": "code",
   "execution_count": 14,
   "id": "d065a998",
   "metadata": {},
   "outputs": [],
   "source": [
    "model = models.Sequential()\n",
    "\n",
    "model.add(layers.Conv2D(32, (3, 3), input_shape=(img_width, img_height, 3)))\n",
    "model.add(layers.Activation('relu'))\n",
    "model.add(layers.MaxPooling2D(pool_size=(2, 2)))\n",
    "\n",
    "model.add(layers.Conv2D(32, (3, 3)))\n",
    "model.add(layers.Activation('relu'))\n",
    "model.add(layers.MaxPooling2D(pool_size=(2, 2)))\n",
    "\n",
    "model.add(layers.Conv2D(64, (3, 3)))\n",
    "model.add(layers.Activation('relu'))\n",
    "model.add(layers.MaxPooling2D(pool_size=(2, 2)))\n",
    "\n",
    "model.add(layers.Flatten())\n",
    "model.add(layers.Dense(128))\n",
    "model.add(layers.Activation('relu'))\n",
    "model.add(layers.Dropout(0.5))\n",
    "\n",
    "model.add(layers.Dense(64))\n",
    "model.add(layers.Activation('relu'))\n",
    "model.add(layers.Dropout(0.5))\n",
    "\n",
    "model.add(layers.Dense(1))\n",
    "model.add(layers.Activation('sigmoid'))"
   ]
  },
  {
   "cell_type": "code",
   "execution_count": 15,
   "id": "250caae1",
   "metadata": {},
   "outputs": [
    {
     "name": "stdout",
     "output_type": "stream",
     "text": [
      "Model: \"sequential\"\n",
      "_________________________________________________________________\n",
      " Layer (type)                Output Shape              Param #   \n",
      "=================================================================\n",
      " conv2d (Conv2D)             (None, 62, 62, 32)        896       \n",
      "                                                                 \n",
      " activation (Activation)     (None, 62, 62, 32)        0         \n",
      "                                                                 \n",
      " max_pooling2d (MaxPooling2D  (None, 31, 31, 32)       0         \n",
      " )                                                               \n",
      "                                                                 \n",
      " conv2d_1 (Conv2D)           (None, 29, 29, 32)        9248      \n",
      "                                                                 \n",
      " activation_1 (Activation)   (None, 29, 29, 32)        0         \n",
      "                                                                 \n",
      " max_pooling2d_1 (MaxPooling  (None, 14, 14, 32)       0         \n",
      " 2D)                                                             \n",
      "                                                                 \n",
      " conv2d_2 (Conv2D)           (None, 12, 12, 64)        18496     \n",
      "                                                                 \n",
      " activation_2 (Activation)   (None, 12, 12, 64)        0         \n",
      "                                                                 \n",
      " max_pooling2d_2 (MaxPooling  (None, 6, 6, 64)         0         \n",
      " 2D)                                                             \n",
      "                                                                 \n",
      " flatten (Flatten)           (None, 2304)              0         \n",
      "                                                                 \n",
      " dense (Dense)               (None, 128)               295040    \n",
      "                                                                 \n",
      " activation_3 (Activation)   (None, 128)               0         \n",
      "                                                                 \n",
      " dropout (Dropout)           (None, 128)               0         \n",
      "                                                                 \n",
      " dense_1 (Dense)             (None, 64)                8256      \n",
      "                                                                 \n",
      " activation_4 (Activation)   (None, 64)                0         \n",
      "                                                                 \n",
      " dropout_1 (Dropout)         (None, 64)                0         \n",
      "                                                                 \n",
      " dense_2 (Dense)             (None, 1)                 65        \n",
      "                                                                 \n",
      " activation_5 (Activation)   (None, 1)                 0         \n",
      "                                                                 \n",
      "=================================================================\n",
      "Total params: 332,001\n",
      "Trainable params: 332,001\n",
      "Non-trainable params: 0\n",
      "_________________________________________________________________\n"
     ]
    }
   ],
   "source": [
    "model.summary()"
   ]
  },
  {
   "cell_type": "code",
   "execution_count": 16,
   "id": "4589c764",
   "metadata": {},
   "outputs": [],
   "source": [
    "model.compile(loss='binary_crossentropy',optimizer='adam',metrics=['accuracy'])\n"
   ]
  },
  {
   "cell_type": "code",
   "execution_count": 17,
   "id": "e2900b88",
   "metadata": {},
   "outputs": [
    {
     "name": "stdout",
     "output_type": "stream",
     "text": [
      "Epoch 1/10\n",
      "200/200 [==============================] - 28s 101ms/step - loss: 0.6931 - accuracy: 0.5122 - val_loss: 0.6847 - val_accuracy: 0.5938\n",
      "Epoch 2/10\n",
      "200/200 [==============================] - 21s 105ms/step - loss: 0.6730 - accuracy: 0.5939 - val_loss: 0.6510 - val_accuracy: 0.6413\n",
      "Epoch 3/10\n",
      "200/200 [==============================] - 22s 108ms/step - loss: 0.6395 - accuracy: 0.6413 - val_loss: 0.6095 - val_accuracy: 0.6750\n",
      "Epoch 4/10\n",
      "200/200 [==============================] - 22s 108ms/step - loss: 0.6013 - accuracy: 0.6784 - val_loss: 0.6066 - val_accuracy: 0.6744\n",
      "Epoch 5/10\n",
      "200/200 [==============================] - 21s 103ms/step - loss: 0.5708 - accuracy: 0.7027 - val_loss: 0.5604 - val_accuracy: 0.7056\n",
      "Epoch 6/10\n",
      "200/200 [==============================] - 21s 105ms/step - loss: 0.5424 - accuracy: 0.7259 - val_loss: 0.5587 - val_accuracy: 0.7031\n",
      "Epoch 7/10\n",
      "200/200 [==============================] - 21s 103ms/step - loss: 0.5132 - accuracy: 0.7513 - val_loss: 0.5631 - val_accuracy: 0.6963\n",
      "Epoch 8/10\n",
      "200/200 [==============================] - 20s 102ms/step - loss: 0.4915 - accuracy: 0.7605 - val_loss: 0.5512 - val_accuracy: 0.7075\n",
      "Epoch 9/10\n",
      "200/200 [==============================] - 21s 104ms/step - loss: 0.4674 - accuracy: 0.7805 - val_loss: 0.5466 - val_accuracy: 0.7237\n",
      "Epoch 10/10\n",
      "200/200 [==============================] - 21s 104ms/step - loss: 0.4328 - accuracy: 0.7961 - val_loss: 0.5559 - val_accuracy: 0.7225\n"
     ]
    }
   ],
   "source": [
    "history=model.fit(x,y, epochs = 10, validation_split = 0.2, batch_size = 32)"
   ]
  },
  {
   "cell_type": "code",
   "execution_count": 18,
   "id": "43a32b73",
   "metadata": {},
   "outputs": [
    {
     "data": {
      "image/png": "[encoded data removed]",
      "text/plain": [
       "<Figure size 432x288 with 1 Axes>"
      ]
     },
     "metadata": {
      "needs_background": "light"
     },
     "output_type": "display_data"
    }
   ],
   "source": [
    "import matplotlib.pyplot as plt\n",
    "plt.plot(history.history['accuracy'])\n",
    "plt.plot(history.history['val_accuracy'])\n",
    "plt.title('model accuracy')\n",
    "plt.ylabel('accuracy')\n",
    "plt.xlabel('epoch')\n",
    "plt.legend(['train', 'val'], loc='upper left')\n",
    "plt.show()"
   ]
  },
  {
   "cell_type": "code",
   "execution_count": 19,
   "id": "f3358a7f",
   "metadata": {},
   "outputs": [],
   "source": [
    "model.save(\"h5_model.h5\")"
   ]
  },
  {
   "cell_type": "code",
   "execution_count": null,
   "id": "3704113f",
   "metadata": {},
   "outputs": [],
   "source": []
  }
 ],
 "metadata": {
  "interpreter": {
   "hash": "5f64f01a6cdb813bd23f3c2980301e513b65108ef9650403b1a46775be8a9390"
  },
  "kernelspec": {
   "display_name": "tfod",
   "language": "python",
   "name": "python3"
  },
  "language_info": {
   "codemirror_mode": {
    "name": "ipython",
    "version": 3
   },
   "file_extension": ".py",
   "mimetype": "text/x-python",
   "name": "python",
   "nbconvert_exporter": "python",
   "pygments_lexer": "ipython3",
   "version": "3.7.3"
  }
 },
 "nbformat": 4,
 "nbformat_minor": 5
}
