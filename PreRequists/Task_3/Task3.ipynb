{
 "cells": [
  {
   "cell_type": "code",
   "execution_count": 1,
   "id": "08cf1386",
   "metadata": {},
   "outputs": [],
   "source": [
    "import pandas as pd\n",
    "import numpy as np\n",
    "import cv2\n",
    "import os\n",
    "import random\n",
    "from keras import layers, models, optimizers\n"
   ]
  },
  {
   "cell_type": "code",
   "execution_count": 2,
   "id": "02b6df0e",
   "metadata": {},
   "outputs": [],
   "source": [
    "df=pd.read_csv('train_labels.csv')"
   ]
  },
  {
   "cell_type": "code",
   "execution_count": 3,
   "id": "cbdf42e5",
   "metadata": {},
   "outputs": [
    {
     "data": {
      "text/html": [
       "<div>\n",
       "<style scoped>\n",
       "    .dataframe tbody tr th:only-of-type {\n",
       "        vertical-align: middle;\n",
       "    }\n",
       "\n",
       "    .dataframe tbody tr th {\n",
       "        vertical-align: top;\n",
       "    }\n",
       "\n",
       "    .dataframe thead th {\n",
       "        text-align: right;\n",
       "    }\n",
       "</style>\n",
       "<table border=\"1\" class=\"dataframe\">\n",
       "  <thead>\n",
       "    <tr style=\"text-align: right;\">\n",
       "      <th></th>\n",
       "      <th>id</th>\n",
       "      <th>label</th>\n",
       "    </tr>\n",
       "  </thead>\n",
       "  <tbody>\n",
       "    <tr>\n",
       "      <th>0</th>\n",
       "      <td>10</td>\n",
       "      <td>cat</td>\n",
       "    </tr>\n",
       "    <tr>\n",
       "      <th>1</th>\n",
       "      <td>18</td>\n",
       "      <td>cat</td>\n",
       "    </tr>\n",
       "    <tr>\n",
       "      <th>2</th>\n",
       "      <td>22</td>\n",
       "      <td>cat</td>\n",
       "    </tr>\n",
       "    <tr>\n",
       "      <th>3</th>\n",
       "      <td>27</td>\n",
       "      <td>cat</td>\n",
       "    </tr>\n",
       "    <tr>\n",
       "      <th>4</th>\n",
       "      <td>34</td>\n",
       "      <td>cat</td>\n",
       "    </tr>\n",
       "  </tbody>\n",
       "</table>\n",
       "</div>"
      ],
      "text/plain": [
       "   id label\n",
       "0  10   cat\n",
       "1  18   cat\n",
       "2  22   cat\n",
       "3  27   cat\n",
       "4  34   cat"
      ]
     },
     "execution_count": 3,
     "metadata": {},
     "output_type": "execute_result"
    }
   ],
   "source": [
    "df.head()"
   ]
  },
  {
   "cell_type": "code",
   "execution_count": 4,
   "id": "c84974dd",
   "metadata": {},
   "outputs": [
    {
     "data": {
      "text/plain": [
       "8000"
      ]
     },
     "execution_count": 4,
     "metadata": {},
     "output_type": "execute_result"
    }
   ],
   "source": [
    "len(df)"
   ]
  },
  {
   "cell_type": "code",
   "execution_count": 5,
   "id": "b4be463e",
   "metadata": {},
   "outputs": [
    {
     "ename": "AttributeError",
     "evalue": "'NoneType' object has no attribute 'shape'",
     "output_type": "error",
     "traceback": [
      "\u001b[1;31m---------------------------------------------------------------------------\u001b[0m",
      "\u001b[1;31mAttributeError\u001b[0m                            Traceback (most recent call last)",
      "\u001b[1;32m~\\AppData\\Local\\Temp\\ipykernel_10480\\1025061579.py\u001b[0m in \u001b[0;36m<module>\u001b[1;34m\u001b[0m\n\u001b[0;32m      1\u001b[0m \u001b[0mimg\u001b[0m \u001b[1;33m=\u001b[0m \u001b[0mcv2\u001b[0m\u001b[1;33m.\u001b[0m\u001b[0mimread\u001b[0m\u001b[1;33m(\u001b[0m\u001b[1;34m'10.png'\u001b[0m\u001b[1;33m)\u001b[0m\u001b[1;33m\u001b[0m\u001b[1;33m\u001b[0m\u001b[0m\n\u001b[1;32m----> 2\u001b[1;33m \u001b[0mdimensions\u001b[0m \u001b[1;33m=\u001b[0m \u001b[0mimg\u001b[0m\u001b[1;33m.\u001b[0m\u001b[0mshape\u001b[0m\u001b[1;33m\u001b[0m\u001b[1;33m\u001b[0m\u001b[0m\n\u001b[0m",
      "\u001b[1;31mAttributeError\u001b[0m: 'NoneType' object has no attribute 'shape'"
     ]
    }
   ],
   "source": [
    "img = cv2.imread('10.png')\n",
    "dimensions = img.shape()"
   ]
  },
  {
   "cell_type": "code",
   "execution_count": 10,
   "id": "c983f5e2",
   "metadata": {},
   "outputs": [],
   "source": [
    "img_dir=\"C:\\\\Users\\\\Dell\\\\OneDrive\\\\Desktop\\\\ml\\\\PreRequists\\\\Task_3\\\\train_data\"\n",
    "ids = df[\"id\"].tolist()\n",
    "labels = df[\"label\"].tolist()"
   ]
  },
  {
   "cell_type": "code",
   "execution_count": 11,
   "id": "11eb0a8a",
   "metadata": {},
   "outputs": [],
   "source": [
    "imgs = []\n",
    "\n",
    "for img in ids:\n",
    "    imgs.append(cv2.imread(os.path.join(img_dir,f\"{img}.png\")))"
   ]
  },
  {
   "cell_type": "code",
   "execution_count": 12,
   "id": "37127989",
   "metadata": {},
   "outputs": [
    {
     "data": {
      "text/plain": [
       "8000"
      ]
     },
     "execution_count": 12,
     "metadata": {},
     "output_type": "execute_result"
    }
   ],
   "source": [
    "len(imgs)"
   ]
  },
  {
   "cell_type": "code",
   "execution_count": 13,
   "id": "ae20e121",
   "metadata": {},
   "outputs": [
    {
     "data": {
      "text/plain": [
       "array([[[116, 125, 125],\n",
       "        [ 91, 101, 110],\n",
       "        [ 83,  90, 102],\n",
       "        ...,\n",
       "        [214, 207, 202],\n",
       "        [212, 205, 200],\n",
       "        [214, 208, 202]],\n",
       "\n",
       "       [[142, 146, 142],\n",
       "        [139, 144, 146],\n",
       "        [170, 172, 176],\n",
       "        ...,\n",
       "        [205, 201, 195],\n",
       "        [209, 205, 198],\n",
       "        [215, 211, 204]],\n",
       "\n",
       "       [[183, 185, 180],\n",
       "        [146, 146, 143],\n",
       "        [157, 157, 156],\n",
       "        ...,\n",
       "        [113, 111, 122],\n",
       "        [131, 128, 139],\n",
       "        [150, 147, 158]],\n",
       "\n",
       "       ...,\n",
       "\n",
       "       [[ 41,  82, 104],\n",
       "        [ 39,  80, 101],\n",
       "        [ 38,  81, 101],\n",
       "        ...,\n",
       "        [ 67, 103, 126],\n",
       "        [ 69, 103, 126],\n",
       "        [ 68, 101, 125]],\n",
       "\n",
       "       [[ 40,  81, 104],\n",
       "        [ 41,  84, 105],\n",
       "        [ 43,  88, 109],\n",
       "        ...,\n",
       "        [ 78, 113, 138],\n",
       "        [ 80, 113, 137],\n",
       "        [ 81, 112, 137]],\n",
       "\n",
       "       [[ 42,  83, 105],\n",
       "        [ 45,  87, 108],\n",
       "        [ 50,  94, 115],\n",
       "        ...,\n",
       "        [ 82, 117, 143],\n",
       "        [ 84, 116, 143],\n",
       "        [ 86, 116, 144]]], dtype=uint8)"
      ]
     },
     "execution_count": 13,
     "metadata": {},
     "output_type": "execute_result"
    }
   ],
   "source": [
    "imgs[0]"
   ]
  },
  {
   "cell_type": "code",
   "execution_count": 14,
   "id": "e54acbe8",
   "metadata": {},
   "outputs": [],
   "source": [
    "clf = [\"cat\",\"dog\"]\n",
    "target = []\n",
    "for label in labels :\n",
    "    if label == \"cat\":\n",
    "        target.append(clf.index(label))\n",
    "    elif label == \"dog\":\n",
    "        target.append(clf.index(label))"
   ]
  },
  {
   "cell_type": "code",
   "execution_count": 15,
   "id": "837d94e4",
   "metadata": {},
   "outputs": [],
   "source": [
    "img_width=64\n",
    "img_height = 64"
   ]
  },
  {
   "cell_type": "code",
   "execution_count": 16,
   "id": "def85a75",
   "metadata": {},
   "outputs": [],
   "source": [
    "def prepare_data(images,target):\n",
    "    inp= []\n",
    "\n",
    "    for i in range(len(target)):\n",
    "        images[i]=cv2.resize(images[i], (img_width,img_height), interpolation=cv2.INTER_CUBIC)\n",
    "        inp.append([images[i], target[i]])\n",
    "\n",
    "    random.shuffle(inp) \n",
    "    x = []  \n",
    "    y = []  \n",
    "\n",
    "    for feature, tar in inp:\n",
    "        x.append(feature)\n",
    "        y.append(tar)\n",
    "    \n",
    "    x= np.array(x)\n",
    "    x = x/255\n",
    "    y= np.array(y)\n",
    "    \n",
    "    return x,y"
   ]
  },
  {
   "cell_type": "code",
   "execution_count": 17,
   "id": "9186bde0",
   "metadata": {},
   "outputs": [],
   "source": [
    "x, y = prepare_data(imgs,target)"
   ]
  },
  {
   "cell_type": "code",
   "execution_count": 18,
   "id": "0dd66ebe",
   "metadata": {},
   "outputs": [
    {
     "data": {
      "text/plain": [
       "array([[[0.87843137, 0.89803922, 0.89411765],\n",
       "        [0.89803922, 0.91764706, 0.91372549],\n",
       "        [0.92941176, 0.94901961, 0.94509804],\n",
       "        ...,\n",
       "        [1.        , 1.        , 1.        ],\n",
       "        [1.        , 1.        , 1.        ],\n",
       "        [1.        , 1.        , 1.        ]],\n",
       "\n",
       "       [[0.78431373, 0.80392157, 0.8       ],\n",
       "        [0.80392157, 0.82352941, 0.81960784],\n",
       "        [0.83529412, 0.85490196, 0.85098039],\n",
       "        ...,\n",
       "        [1.        , 1.        , 1.        ],\n",
       "        [1.        , 1.        , 1.        ],\n",
       "        [1.        , 1.        , 1.        ]],\n",
       "\n",
       "       [[0.63137255, 0.65098039, 0.64705882],\n",
       "        [0.65098039, 0.6745098 , 0.66666667],\n",
       "        [0.68627451, 0.70588235, 0.70196078],\n",
       "        ...,\n",
       "        [1.        , 1.        , 1.        ],\n",
       "        [1.        , 1.        , 1.        ],\n",
       "        [1.        , 1.        , 1.        ]],\n",
       "\n",
       "       ...,\n",
       "\n",
       "       [[0.50980392, 0.49803922, 0.50980392],\n",
       "        [0.56862745, 0.56470588, 0.58039216],\n",
       "        [0.66666667, 0.67843137, 0.69019608],\n",
       "        ...,\n",
       "        [0.29019608, 0.32156863, 0.41176471],\n",
       "        [0.2745098 , 0.3254902 , 0.36078431],\n",
       "        [0.26666667, 0.3254902 , 0.32941176]],\n",
       "\n",
       "       [[0.50980392, 0.49803922, 0.50588235],\n",
       "        [0.54117647, 0.5372549 , 0.54901961],\n",
       "        [0.59607843, 0.60784314, 0.61176471],\n",
       "        ...,\n",
       "        [0.27058824, 0.29019608, 0.36862745],\n",
       "        [0.26666667, 0.30196078, 0.32941176],\n",
       "        [0.26666667, 0.30980392, 0.30588235]],\n",
       "\n",
       "       [[0.50588235, 0.49411765, 0.50196078],\n",
       "        [0.5254902 , 0.52156863, 0.52941176],\n",
       "        [0.55294118, 0.56078431, 0.56470588],\n",
       "        ...,\n",
       "        [0.25882353, 0.27058824, 0.34117647],\n",
       "        [0.2627451 , 0.29019608, 0.30980392],\n",
       "        [0.26666667, 0.30196078, 0.29019608]]])"
      ]
     },
     "execution_count": 18,
     "metadata": {},
     "output_type": "execute_result"
    }
   ],
   "source": [
    "x[0]"
   ]
  },
  {
   "cell_type": "code",
   "execution_count": 19,
   "id": "d065a998",
   "metadata": {},
   "outputs": [],
   "source": [
    "model = models.Sequential()\n",
    "\n",
    "model.add(layers.Conv2D(32, (3, 3), input_shape=(img_width, img_height, 3)))\n",
    "model.add(layers.Activation('relu'))\n",
    "model.add(layers.MaxPooling2D(pool_size=(2, 2)))\n",
    "\n",
    "model.add(layers.Conv2D(32, (3, 3)))\n",
    "model.add(layers.Activation('relu'))\n",
    "model.add(layers.MaxPooling2D(pool_size=(2, 2)))\n",
    "\n",
    "model.add(layers.Conv2D(64, (3, 3)))\n",
    "model.add(layers.Activation('relu'))\n",
    "model.add(layers.MaxPooling2D(pool_size=(2, 2)))\n",
    "\n",
    "model.add(layers.Flatten())\n",
    "model.add(layers.Dense(128))\n",
    "model.add(layers.Activation('relu'))\n",
    "model.add(layers.Dropout(0.5))\n",
    "\n",
    "model.add(layers.Dense(64))\n",
    "model.add(layers.Activation('relu'))\n",
    "model.add(layers.Dropout(0.5))\n",
    "\n",
    "model.add(layers.Dense(1))\n",
    "model.add(layers.Activation('sigmoid'))"
   ]
  },
  {
   "cell_type": "code",
   "execution_count": 20,
   "id": "250caae1",
   "metadata": {},
   "outputs": [
    {
     "name": "stdout",
     "output_type": "stream",
     "text": [
      "Model: \"sequential\"\n",
      "_________________________________________________________________\n",
      " Layer (type)                Output Shape              Param #   \n",
      "=================================================================\n",
      " conv2d (Conv2D)             (None, 62, 62, 32)        896       \n",
      "                                                                 \n",
      " activation (Activation)     (None, 62, 62, 32)        0         \n",
      "                                                                 \n",
      " max_pooling2d (MaxPooling2D  (None, 31, 31, 32)       0         \n",
      " )                                                               \n",
      "                                                                 \n",
      " conv2d_1 (Conv2D)           (None, 29, 29, 32)        9248      \n",
      "                                                                 \n",
      " activation_1 (Activation)   (None, 29, 29, 32)        0         \n",
      "                                                                 \n",
      " max_pooling2d_1 (MaxPooling  (None, 14, 14, 32)       0         \n",
      " 2D)                                                             \n",
      "                                                                 \n",
      " conv2d_2 (Conv2D)           (None, 12, 12, 64)        18496     \n",
      "                                                                 \n",
      " activation_2 (Activation)   (None, 12, 12, 64)        0         \n",
      "                                                                 \n",
      " max_pooling2d_2 (MaxPooling  (None, 6, 6, 64)         0         \n",
      " 2D)                                                             \n",
      "                                                                 \n",
      " flatten (Flatten)           (None, 2304)              0         \n",
      "                                                                 \n",
      " dense (Dense)               (None, 128)               295040    \n",
      "                                                                 \n",
      " activation_3 (Activation)   (None, 128)               0         \n",
      "                                                                 \n",
      " dropout (Dropout)           (None, 128)               0         \n",
      "                                                                 \n",
      " dense_1 (Dense)             (None, 64)                8256      \n",
      "                                                                 \n",
      " activation_4 (Activation)   (None, 64)                0         \n",
      "                                                                 \n",
      " dropout_1 (Dropout)         (None, 64)                0         \n",
      "                                                                 \n",
      " dense_2 (Dense)             (None, 1)                 65        \n",
      "                                                                 \n",
      " activation_5 (Activation)   (None, 1)                 0         \n",
      "                                                                 \n",
      "=================================================================\n",
      "Total params: 332,001\n",
      "Trainable params: 332,001\n",
      "Non-trainable params: 0\n",
      "_________________________________________________________________\n"
     ]
    }
   ],
   "source": [
    "model.summary()"
   ]
  },
  {
   "cell_type": "code",
   "execution_count": 21,
   "id": "4589c764",
   "metadata": {},
   "outputs": [],
   "source": [
    "model.compile(loss='binary_crossentropy',optimizer='adam',metrics=['accuracy'])\n"
   ]
  },
  {
   "cell_type": "code",
   "execution_count": 22,
   "id": "e2900b88",
   "metadata": {},
   "outputs": [
    {
     "name": "stdout",
     "output_type": "stream",
     "text": [
      "Epoch 1/10\n",
      "200/200 [==============================] - 47s 151ms/step - loss: 0.6939 - accuracy: 0.4986 - val_loss: 0.6931 - val_accuracy: 0.5006\n",
      "Epoch 2/10\n",
      "200/200 [==============================] - 30s 151ms/step - loss: 0.6736 - accuracy: 0.5748 - val_loss: 0.6518 - val_accuracy: 0.6356\n",
      "Epoch 3/10\n",
      "200/200 [==============================] - 28s 139ms/step - loss: 0.6386 - accuracy: 0.6309 - val_loss: 0.6121 - val_accuracy: 0.6694\n",
      "Epoch 4/10\n",
      "200/200 [==============================] - 28s 141ms/step - loss: 0.6133 - accuracy: 0.6659 - val_loss: 0.5940 - val_accuracy: 0.6963\n",
      "Epoch 5/10\n",
      "200/200 [==============================] - 30s 149ms/step - loss: 0.5772 - accuracy: 0.7005 - val_loss: 0.5869 - val_accuracy: 0.6875\n",
      "Epoch 6/10\n",
      "200/200 [==============================] - 28s 142ms/step - loss: 0.5530 - accuracy: 0.7205 - val_loss: 0.5640 - val_accuracy: 0.7144\n",
      "Epoch 7/10\n",
      "200/200 [==============================] - 27s 134ms/step - loss: 0.5255 - accuracy: 0.7336 - val_loss: 0.5532 - val_accuracy: 0.7150\n",
      "Epoch 8/10\n",
      "200/200 [==============================] - 25s 126ms/step - loss: 0.4984 - accuracy: 0.7544 - val_loss: 0.5611 - val_accuracy: 0.7125\n",
      "Epoch 9/10\n",
      "200/200 [==============================] - 24s 122ms/step - loss: 0.4713 - accuracy: 0.7723 - val_loss: 0.5552 - val_accuracy: 0.7281\n",
      "Epoch 10/10\n",
      "200/200 [==============================] - 24s 120ms/step - loss: 0.4279 - accuracy: 0.7977 - val_loss: 0.5684 - val_accuracy: 0.7125\n"
     ]
    }
   ],
   "source": [
    "history=model.fit(x,y, epochs = 10, validation_split = 0.2, batch_size = 32)"
   ]
  },
  {
   "cell_type": "code",
   "execution_count": 23,
   "id": "43a32b73",
   "metadata": {},
   "outputs": [
    {
     "data": {
      "image/png": "[encoded data removed]",
      "text/plain": [
       "<Figure size 432x288 with 1 Axes>"
      ]
     },
     "metadata": {
      "needs_background": "light"
     },
     "output_type": "display_data"
    }
   ],
   "source": [
    "import matplotlib.pyplot as plt\n",
    "plt.plot(history.history['accuracy'])\n",
    "plt.plot(history.history['val_accuracy'])\n",
    "plt.title('model accuracy')\n",
    "plt.ylabel('accuracy')\n",
    "plt.xlabel('epoch')\n",
    "plt.legend(['train', 'val'], loc='upper left')\n",
    "plt.show()"
   ]
  },
  {
   "cell_type": "code",
   "execution_count": 24,
   "id": "f3358a7f",
   "metadata": {},
   "outputs": [],
   "source": [
    "model.save(\"my_h5_model.h5\")"
   ]
  }
 ],
 "metadata": {
  "interpreter": {
   "hash": "5f64f01a6cdb813bd23f3c2980301e513b65108ef9650403b1a46775be8a9390"
  },
  "kernelspec": {
   "display_name": "tfod",
   "language": "python",
   "name": "python3"
  },
  "language_info": {
   "codemirror_mode": {
    "name": "ipython",
    "version": 3
   },
   "file_extension": ".py",
   "mimetype": "text/x-python",
   "name": "python",
   "nbconvert_exporter": "python",
   "pygments_lexer": "ipython3",
   "version": "3.7.3"
  }
 },
 "nbformat": 4,
 "nbformat_minor": 5
}
